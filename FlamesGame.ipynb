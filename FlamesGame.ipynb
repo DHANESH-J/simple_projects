{
 "cells": [
  {
   "cell_type": "code",
   "execution_count": null,
   "id": "06231aed-b398-4cdf-beb5-a4969f196fe0",
   "metadata": {},
   "outputs": [],
   "source": [
    "#here is the segement of the code\n",
    "#at first getting the input\n",
    "name1= input(\"Enter the first name\")\n",
    "name2 = input(\"Enter the second name\")\n",
    "name1 = name1.lower()\n",
    "name2 = name2.lower()\n",
    "\n",
    "#convert into list\n",
    "list1 =list(name1.replace(' ',''))\n",
    "list2 =list(name2.replace(' ',''))\n",
    "\n",
    "#create a loop \n",
    "def remove_char(list1,list2):\n",
    "    for char in list1[:]:\n",
    "        if char in list2:\n",
    "            list1.remove(char)\n",
    "            list2.remove(char)\n",
    "    return list1,list2\n",
    "    \n",
    "#store the list and count the length  \n",
    "list1,list2= remove_char(list1,list2)\n",
    "count = len(list1+list2)\n",
    "\n",
    "#the base list for flames\n",
    "flames_list = ['Family','Love','Affection','Marriage','Enemy','Siblings']\n",
    "\n",
    "#create the counting statement \n",
    "index = 0\n",
    "while len(flames_list)>1:\n",
    "    index = (index+count-1)%len(flames_list)\n",
    "    flames_list.pop(index)\n",
    "    \n",
    "#print\n",
    "print(\"Relationship b/t the person:\",flames_list[0])"
   ]
  }
 ],
 "metadata": {
  "kernelspec": {
   "display_name": "Python 3 (ipykernel)",
   "language": "python",
   "name": "python3"
  },
  "language_info": {
   "codemirror_mode": {
    "name": "ipython",
    "version": 3
   },
   "file_extension": ".py",
   "mimetype": "text/x-python",
   "name": "python",
   "nbconvert_exporter": "python",
   "pygments_lexer": "ipython3",
   "version": "3.12.4"
  }
 },
 "nbformat": 4,
 "nbformat_minor": 5
}
