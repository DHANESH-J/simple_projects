{
 "cells": [
  {
   "cell_type": "code",
   "execution_count": 51,
   "id": "06231aed-b398-4cdf-beb5-a4969f196fe0",
   "metadata": {},
   "outputs": [
    {
     "name": "stdin",
     "output_type": "stream",
     "text": [
      "Enter the first name Dhanesh\n",
      "Enter the second name susi\n"
     ]
    },
    {
     "name": "stdout",
     "output_type": "stream",
     "text": [
      "Relation b/t the person: Enemy\n"
     ]
    }
   ],
   "source": [
    "#here is the segement of the code\n",
    "#at first geting the input\n",
    "name1= input(\"Enter the first name\")\n",
    "name2 = input(\"Enter the second name\")\n",
    "name1 = name1.lower()\n",
    "name2 = name2.lower()\n",
    "\n",
    "#convert into list\n",
    "list1 =list(name1.replace(' ',''))\n",
    "list2 =list(name2.replace(' ',''))\n",
    "\n",
    "#create a nested for loop \n",
    "def remove_char(list1,list2):\n",
    "    for char in list1[:]:\n",
    "        if char in list2:\n",
    "            list1.remove(char)\n",
    "            list2.remove(char)\n",
    "    return list1,list2\n",
    "    \n",
    "#store the list in list1_resu   \n",
    "list1,list2= remove_char(list1,list2)\n",
    "count = len(list1+list2)\n",
    "\n",
    "#the base list for flames\n",
    "flames_list = ['Family','Love','Affection','Marriage','Enemy','Siblings']\n",
    "#create the counting statement \n",
    "index = 0\n",
    "while len(flames_list)>1:\n",
    "    index = (index+count-1)%len(flames_list)\n",
    "    flames_list.pop(index)\n",
    "    \n",
    "#print\n",
    "print(\"Relation b/t the person:\",flames_list[0])"
   ]
  },
  {
   "cell_type": "code",
   "execution_count": null,
   "id": "cf758882-b0b0-4e95-942e-612241a58f31",
   "metadata": {},
   "outputs": [],
   "source": []
  }
 ],
 "metadata": {
  "kernelspec": {
   "display_name": "Python 3 (ipykernel)",
   "language": "python",
   "name": "python3"
  },
  "language_info": {
   "codemirror_mode": {
    "name": "ipython",
    "version": 3
   },
   "file_extension": ".py",
   "mimetype": "text/x-python",
   "name": "python",
   "nbconvert_exporter": "python",
   "pygments_lexer": "ipython3",
   "version": "3.12.4"
  }
 },
 "nbformat": 4,
 "nbformat_minor": 5
}
